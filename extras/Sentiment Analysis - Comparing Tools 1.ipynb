{
 "cells": [
  {
   "cell_type": "code",
   "execution_count": 2,
   "id": "7037892b",
   "metadata": {},
   "outputs": [],
   "source": [
    "# selected Ana-Senti\n",
    "# install packages in anaconda (cmd) prompt\n",
    "\n",
    "# pip install matplotlib pandas nltk textblob \n"
   ]
  },
  {
   "cell_type": "markdown",
   "id": "46db8a67",
   "metadata": {},
   "source": [
    "# NLTK: Natural Language Tooklit\n",
    "Natural Language Toolkit is the basis for a lot of text analysis done in Python. It's old and terrible and slow, but it's just been used for so long and does so many things that it's generally the default when people get into text analysis. The new kid on the block is spaCy (but it doesn't do sentiment analysis out of the box so we're leaving it out of this).\n",
    "\n",
    "When you first run NLTK, you need to download some datasets to make sure it will be able to do everything you want."
   ]
  },
  {
   "cell_type": "code",
   "execution_count": 3,
   "id": "5f38b51f",
   "metadata": {},
   "outputs": [
    {
     "name": "stderr",
     "output_type": "stream",
     "text": [
      "[nltk_data] Downloading package vader_lexicon to\n",
      "[nltk_data]     C:\\Users\\Quirante\\AppData\\Roaming\\nltk_data...\n",
      "[nltk_data] Downloading package movie_reviews to\n",
      "[nltk_data]     C:\\Users\\Quirante\\AppData\\Roaming\\nltk_data...\n",
      "[nltk_data]   Unzipping corpora\\movie_reviews.zip.\n",
      "[nltk_data] Downloading package punkt to\n",
      "[nltk_data]     C:\\Users\\Quirante\\AppData\\Roaming\\nltk_data...\n",
      "[nltk_data]   Unzipping tokenizers\\punkt.zip.\n"
     ]
    },
    {
     "data": {
      "text/plain": [
       "True"
      ]
     },
     "execution_count": 3,
     "metadata": {},
     "output_type": "execute_result"
    }
   ],
   "source": [
    "import nltk\n",
    "nltk.download('vader_lexicon')\n",
    "nltk.download('movie_reviews')\n",
    "nltk.download('punkt')"
   ]
  },
  {
   "cell_type": "markdown",
   "id": "43d8b621",
   "metadata": {},
   "source": [
    "To do sentiment analysis with NLTK, it only takes a couple lines of code. To determine sentiment, it's using a tool called VADER.\n",
    "\n"
   ]
  },
  {
   "cell_type": "code",
   "execution_count": 27,
   "id": "2e738d9f",
   "metadata": {},
   "outputs": [
    {
     "data": {
      "text/plain": [
       "{'neg': 0.153, 'neu': 0.688, 'pos': 0.159, 'compound': 0.0276}"
      ]
     },
     "execution_count": 27,
     "metadata": {},
     "output_type": "execute_result"
    }
   ],
   "source": [
    "# Import the SentimentIntensityAnalyzer (SIA) class from the nltk.sentiment.vader module\n",
    "from nltk.sentiment.vader import SentimentIntensityAnalyzer as SIA\n",
    "\n",
    "# Create an instance of the SentimentIntensityAnalyzer\n",
    "sia = SIA()\n",
    "\n",
    "# Perform sentiment analysis on the given text using the SIA object\n",
    "sia.polarity_scores(\"This restaurant was great, but I'm not sure if I'll go there again.\")\n"
   ]
  },
  {
   "cell_type": "markdown",
   "id": "1a225a67",
   "metadata": {},
   "source": [
    "Asking SentimentIntensityAnalyzer for the polarity_score gave us four values in a dictionary:\n",
    "\n",
    "- negative: the negative sentiment in a sentence\n",
    "\n",
    "- neutral: the neutral sentiment in a sentence\n",
    "\n",
    "- positive: the postivie sentiment in the sentence\n",
    "\n",
    "- compound: the aggregated sentiment.\n",
    "\n",
    "Seems simple enough!"
   ]
  },
  {
   "cell_type": "code",
   "execution_count": 29,
   "id": "2c8c7616",
   "metadata": {},
   "outputs": [
    {
     "data": {
      "text/plain": [
       "{'neg': 0.0, 'neu': 1.0, 'pos': 0.0, 'compound': 0.0}"
      ]
     },
     "execution_count": 29,
     "metadata": {},
     "output_type": "execute_result"
    }
   ],
   "source": [
    "# Text with a question mark:\n",
    "text = \"I just got a call from my boss - does he realize it's Saturday?\"\n",
    "# Perform sentiment analysis on the text using the SIA object\n",
    "sia.polarity_scores(text)"
   ]
  },
  {
   "cell_type": "markdown",
   "id": "586f6e16",
   "metadata": {},
   "source": [
    "Just like in real life, if you use an emoticon you can be read as being more positive:"
   ]
  },
  {
   "cell_type": "code",
   "execution_count": 30,
   "id": "20097e60",
   "metadata": {},
   "outputs": [
    {
     "data": {
      "text/plain": [
       "{'neg': 0.0, 'neu': 0.786, 'pos': 0.214, 'compound': 0.4588}"
      ]
     },
     "execution_count": 30,
     "metadata": {},
     "output_type": "execute_result"
    }
   ],
   "source": [
    "# Text with a question mark and a smiley emoticon:\n",
    "text = \"I just got a call from my boss - does he realize it's Saturday? :)\"\n",
    "# Perform sentiment analysis on the text using the SIA object\n",
    "sia.polarity_scores(text)"
   ]
  },
  {
   "cell_type": "markdown",
   "id": "c0e4ecee",
   "metadata": {},
   "source": [
    "But what if we swap out the emoticon for an emoji?"
   ]
  },
  {
   "cell_type": "code",
   "execution_count": 31,
   "id": "19fa694a",
   "metadata": {},
   "outputs": [
    {
     "data": {
      "text/plain": [
       "{'neg': 0.0, 'neu': 1.0, 'pos': 0.0, 'compound': 0.0}"
      ]
     },
     "execution_count": 31,
     "metadata": {},
     "output_type": "execute_result"
    }
   ],
   "source": [
    "# Text with a question mark and a positive emoji (😊):\n",
    "text = \"I just got a call from my boss - does he realize it's Saturday? 😊\"\n",
    "# Perform sentiment analysis on the text using the SIA object\n",
    "sia.polarity_scores(text)"
   ]
  },
  {
   "cell_type": "markdown",
   "id": "6da6b062",
   "metadata": {},
   "source": [
    "Back to neutral! Why didn't it understand the emoji the same way it understood the emoticon? Well, text analysis tools only knows the words that they've been taught, and if VADER's never seen 😊 before it won't know what to think of it."
   ]
  },
  {
   "cell_type": "markdown",
   "id": "4ee9c2f3",
   "metadata": {},
   "source": [
    "# TextBlob\n",
    "TextBlob is built on top of NLTK, but is infinitely easier to use. It's still slow, but it's so so so easy to use.\n",
    "\n",
    "You can just feed TextBlob your sentence, then ask for a .sentiment!"
   ]
  },
  {
   "cell_type": "code",
   "execution_count": 18,
   "id": "3372789a",
   "metadata": {},
   "outputs": [],
   "source": [
    "from textblob import TextBlob\n",
    "from textblob import Blobber\n",
    "from textblob.sentiments import NaiveBayesAnalyzer"
   ]
  },
  {
   "cell_type": "code",
   "execution_count": 19,
   "id": "3dd0a20c",
   "metadata": {},
   "outputs": [
    {
     "data": {
      "text/plain": [
       "Sentiment(polarity=0.275, subjectivity=0.8194444444444444)"
      ]
     },
     "execution_count": 19,
     "metadata": {},
     "output_type": "execute_result"
    }
   ],
   "source": [
    "blob = TextBlob(\"This restaurant was great, but I'm not sure if I'll go there again.\")\n",
    "blob.sentiment"
   ]
  },
  {
   "cell_type": "markdown",
   "id": "d607cd01",
   "metadata": {},
   "source": [
    "How could it possibly be easier than that?!?!? This time we get a polarity and a subjectivity instead of all of those different scores, but it's basically the same idea.\n",
    "\n",
    "If you like options: it turns out TextBlob actually has multiple sentiment analysis tools! How fun! We can plug in a different analyzer to get a different result."
   ]
  },
  {
   "cell_type": "code",
   "execution_count": 20,
   "id": "b00c2320",
   "metadata": {},
   "outputs": [
    {
     "data": {
      "text/plain": [
       "Sentiment(classification='pos', p_pos=0.5879425317005774, p_neg=0.41205746829942275)"
      ]
     },
     "execution_count": 20,
     "metadata": {},
     "output_type": "execute_result"
    }
   ],
   "source": [
    "blobber = Blobber(analyzer=NaiveBayesAnalyzer())\n",
    "\n",
    "blob = blobber(\"This restaurant was great, but I'm not sure if I'll go there again.\")\n",
    "blob.sentiment"
   ]
  },
  {
   "cell_type": "markdown",
   "id": "53287a2a",
   "metadata": {},
   "source": [
    "Wow, that's a very different result. To understand why it's so different, we need to talk about where these sentiment numbers come from."
   ]
  },
  {
   "cell_type": "markdown",
   "id": "abb966fb",
   "metadata": {},
   "source": [
    "# But where do those numbers come from?\n",
    "The most important thing to understand is sentiment is always just an opinion. In this case it's an opinion, yes, but specifically the opinion of a machine.\n",
    "\n",
    "# VADER\n",
    "NLTK's Sentiment Intensity Analyzer works is using something called VADER, which is a list of words that have a sentiment associated with each of them.\n",
    "\n",
    "Word Sentiment rating tragedy - 3.4 rejoiced - 2.0 disaster - 3.1 great - 3.1\n",
    "\n",
    "If you have more positives, the sentence is more positive. If you have more negatives, it's more negative. It can also take into account things like capitalization - you can read more about the classifier here, or the actual paper it came out of here.\n",
    "\n",
    "How do they know what's positive/negative? They came up with a very big list of words, then asked people on the internet and paid them one cent for each word they scored.\n",
    "\n",
    "# TextBlob's .sentiment\n",
    "TextBlob's sentiment analysis is based on a separate library called pattern.\n",
    "\n",
    "The sentiment analysis lexicon bundled in Pattern focuses on adjectives. It contains adjectives that occur frequently in - - customer reviews, hand-tagged with values for polarity and subjectivity.\n",
    "Same kind of thing as NLTK's VADER, but it specifically looks at words from customer reviews.\n",
    "\n",
    "How do they know what's positive/negative? They look at (mostly) adjectives that occur in customer reviews and hand-tag them.\n",
    "\n",
    "# TextBlob's .sentiment + NaiveBayesAnalyzer\n",
    "TextBlob's other option uses a NaiveBayesAnalyzer, which is a machine learning technique. When you use this option with TextBlob, the sentiment is coming from \"an NLTK classifier trained on a movie reviews corpus.\"\n",
    "\n",
    "How do they know what's positive/negative? Looked at movie reviews and scores using machine learning, the computer automatically learned what words are associated with a positive or negative rating.\n",
    "\n",
    "# What's this mean for me?\n",
    "When you're doing sentiment analysis with tools like this, you should have a few major questions:\n",
    "\n",
    "- Where kind of dataset does the list of known words come from?\n",
    "- Do they use all the words, or a selection of the words?\n",
    "- Where do the positive/negative scores come from?"
   ]
  },
  {
   "cell_type": "code",
   "execution_count": 24,
   "id": "eece3bc7",
   "metadata": {},
   "outputs": [
    {
     "data": {
      "text/html": [
       "<div>\n",
       "<style scoped>\n",
       "    .dataframe tbody tr th:only-of-type {\n",
       "        vertical-align: middle;\n",
       "    }\n",
       "\n",
       "    .dataframe tbody tr th {\n",
       "        vertical-align: top;\n",
       "    }\n",
       "\n",
       "    .dataframe thead th {\n",
       "        text-align: right;\n",
       "    }\n",
       "</style>\n",
       "<table border=\"1\" class=\"dataframe\">\n",
       "  <thead>\n",
       "    <tr style=\"text-align: right;\">\n",
       "      <th></th>\n",
       "      <th>content</th>\n",
       "    </tr>\n",
       "  </thead>\n",
       "  <tbody>\n",
       "    <tr>\n",
       "      <th>0</th>\n",
       "      <td>I love love love love this kitten</td>\n",
       "    </tr>\n",
       "    <tr>\n",
       "      <th>1</th>\n",
       "      <td>I hate hate hate hate this keyboard</td>\n",
       "    </tr>\n",
       "    <tr>\n",
       "      <th>2</th>\n",
       "      <td>I'm not sure how I feel about toast</td>\n",
       "    </tr>\n",
       "    <tr>\n",
       "      <th>3</th>\n",
       "      <td>Did you see the baseball game yesterday?</td>\n",
       "    </tr>\n",
       "    <tr>\n",
       "      <th>4</th>\n",
       "      <td>The package was delivered late and the contents were broken</td>\n",
       "    </tr>\n",
       "    <tr>\n",
       "      <th>5</th>\n",
       "      <td>Trashy television shows are some of my favorites</td>\n",
       "    </tr>\n",
       "    <tr>\n",
       "      <th>6</th>\n",
       "      <td>I'm seeing a Kubrick film tomorrow, I hear not so great things about it.</td>\n",
       "    </tr>\n",
       "    <tr>\n",
       "      <th>7</th>\n",
       "      <td>I find chirping birds irritating, but I know I'm not the only one</td>\n",
       "    </tr>\n",
       "  </tbody>\n",
       "</table>\n",
       "</div>"
      ],
      "text/plain": [
       "                                                                    content\n",
       "0                                         I love love love love this kitten\n",
       "1                                       I hate hate hate hate this keyboard\n",
       "2                                       I'm not sure how I feel about toast\n",
       "3                                  Did you see the baseball game yesterday?\n",
       "4               The package was delivered late and the contents were broken\n",
       "5                          Trashy television shows are some of my favorites\n",
       "6  I'm seeing a Kubrick film tomorrow, I hear not so great things about it.\n",
       "7         I find chirping birds irritating, but I know I'm not the only one"
      ]
     },
     "execution_count": 24,
     "metadata": {},
     "output_type": "execute_result"
    }
   ],
   "source": [
    "# Import the pandas library for working with dataframes\n",
    "import pandas as pd\n",
    "\n",
    "# Set the maximum column width for displaying content in the dataframe to 200 characters\n",
    "pd.set_option(\"display.max_colwidth\", 200)\n",
    "\n",
    "# Create a dataframe 'df' with a single column 'content' that contains text data\n",
    "df = pd.DataFrame({'content': [\n",
    "    \"I love love love love this kitten\",\n",
    "    \"I hate hate hate hate this keyboard\",\n",
    "    \"I'm not sure how I feel about toast\",\n",
    "    \"Did you see the baseball game yesterday?\",\n",
    "    \"The package was delivered late and the contents were broken\",\n",
    "    \"Trashy television shows are some of my favorites\",\n",
    "    \"I'm seeing a Kubrick film tomorrow, I hear not so great things about it.\",\n",
    "    \"I find chirping birds irritating, but I know I'm not the only one\",\n",
    "]})\n",
    "\n",
    "# Display the dataframe 'df' with the text data\n",
    "df\n"
   ]
  },
  {
   "cell_type": "code",
   "execution_count": 26,
   "id": "a544b6bc",
   "metadata": {},
   "outputs": [
    {
     "data": {
      "text/html": [
       "<style type=\"text/css\">\n",
       "#T_aeea7_row0_col1 {\n",
       "  background-color: #c3e67d;\n",
       "  color: #000000;\n",
       "}\n",
       "#T_aeea7_row0_col2 {\n",
       "  background-color: #fff6b0;\n",
       "  color: #000000;\n",
       "}\n",
       "#T_aeea7_row0_col3 {\n",
       "  background-color: #73c264;\n",
       "  color: #000000;\n",
       "}\n",
       "#T_aeea7_row1_col1 {\n",
       "  background-color: #fa9656;\n",
       "  color: #000000;\n",
       "}\n",
       "#T_aeea7_row1_col2 {\n",
       "  background-color: #feeb9d;\n",
       "  color: #000000;\n",
       "}\n",
       "#T_aeea7_row1_col3 {\n",
       "  background-color: #f67a49;\n",
       "  color: #f1f1f1;\n",
       "}\n",
       "#T_aeea7_row2_col1, #T_aeea7_row7_col3 {\n",
       "  background-color: #fee797;\n",
       "  color: #000000;\n",
       "}\n",
       "#T_aeea7_row2_col2 {\n",
       "  background-color: #d3ec87;\n",
       "  color: #000000;\n",
       "}\n",
       "#T_aeea7_row2_col3 {\n",
       "  background-color: #fee999;\n",
       "  color: #000000;\n",
       "}\n",
       "#T_aeea7_row3_col1 {\n",
       "  background-color: #fed683;\n",
       "  color: #000000;\n",
       "}\n",
       "#T_aeea7_row3_col2 {\n",
       "  background-color: #b1de71;\n",
       "  color: #000000;\n",
       "}\n",
       "#T_aeea7_row3_col3, #T_aeea7_row5_col1 {\n",
       "  background-color: #fffebe;\n",
       "  color: #000000;\n",
       "}\n",
       "#T_aeea7_row4_col1 {\n",
       "  background-color: #fede89;\n",
       "  color: #000000;\n",
       "}\n",
       "#T_aeea7_row4_col2 {\n",
       "  background-color: #fdbd6d;\n",
       "  color: #000000;\n",
       "}\n",
       "#T_aeea7_row4_col3 {\n",
       "  background-color: #feca79;\n",
       "  color: #000000;\n",
       "}\n",
       "#T_aeea7_row5_col2 {\n",
       "  background-color: #fbfdba;\n",
       "  color: #000000;\n",
       "}\n",
       "#T_aeea7_row5_col3 {\n",
       "  background-color: #cfeb85;\n",
       "  color: #000000;\n",
       "}\n",
       "#T_aeea7_row6_col1 {\n",
       "  background-color: #91d068;\n",
       "  color: #000000;\n",
       "}\n",
       "#T_aeea7_row6_col2 {\n",
       "  background-color: #a0d669;\n",
       "  color: #000000;\n",
       "}\n",
       "#T_aeea7_row6_col3 {\n",
       "  background-color: #fdb567;\n",
       "  color: #000000;\n",
       "}\n",
       "#T_aeea7_row7_col1 {\n",
       "  background-color: #feec9f;\n",
       "  color: #000000;\n",
       "}\n",
       "#T_aeea7_row7_col2 {\n",
       "  background-color: #e3f399;\n",
       "  color: #000000;\n",
       "}\n",
       "</style>\n",
       "<table id=\"T_aeea7\">\n",
       "  <thead>\n",
       "    <tr>\n",
       "      <th class=\"blank level0\" >&nbsp;</th>\n",
       "      <th id=\"T_aeea7_level0_col0\" class=\"col_heading level0 col0\" >content</th>\n",
       "      <th id=\"T_aeea7_level0_col1\" class=\"col_heading level0 col1\" >textblob</th>\n",
       "      <th id=\"T_aeea7_level0_col2\" class=\"col_heading level0 col2\" >textblob_bayes</th>\n",
       "      <th id=\"T_aeea7_level0_col3\" class=\"col_heading level0 col3\" >nltk</th>\n",
       "    </tr>\n",
       "  </thead>\n",
       "  <tbody>\n",
       "    <tr>\n",
       "      <th id=\"T_aeea7_level0_row0\" class=\"row_heading level0 row0\" >0</th>\n",
       "      <td id=\"T_aeea7_row0_col0\" class=\"data row0 col0\" >I love love love love this kitten</td>\n",
       "      <td id=\"T_aeea7_row0_col1\" class=\"data row0 col1\" >0.500000</td>\n",
       "      <td id=\"T_aeea7_row0_col2\" class=\"data row0 col2\" >-0.087933</td>\n",
       "      <td id=\"T_aeea7_row0_col3\" class=\"data row0 col3\" >0.957100</td>\n",
       "    </tr>\n",
       "    <tr>\n",
       "      <th id=\"T_aeea7_level0_row1\" class=\"row_heading level0 row1\" >1</th>\n",
       "      <td id=\"T_aeea7_row1_col0\" class=\"data row1 col0\" >I hate hate hate hate this keyboard</td>\n",
       "      <td id=\"T_aeea7_row1_col1\" class=\"data row1 col1\" >-0.800000</td>\n",
       "      <td id=\"T_aeea7_row1_col2\" class=\"data row1 col2\" >-0.214151</td>\n",
       "      <td id=\"T_aeea7_row1_col3\" class=\"data row1 col3\" >-0.941300</td>\n",
       "    </tr>\n",
       "    <tr>\n",
       "      <th id=\"T_aeea7_level0_row2\" class=\"row_heading level0 row2\" >2</th>\n",
       "      <td id=\"T_aeea7_row2_col0\" class=\"data row2 col0\" >I'm not sure how I feel about toast</td>\n",
       "      <td id=\"T_aeea7_row2_col1\" class=\"data row2 col1\" >-0.250000</td>\n",
       "      <td id=\"T_aeea7_row2_col2\" class=\"data row2 col2\" >0.394659</td>\n",
       "      <td id=\"T_aeea7_row2_col3\" class=\"data row2 col3\" >-0.241100</td>\n",
       "    </tr>\n",
       "    <tr>\n",
       "      <th id=\"T_aeea7_level0_row3\" class=\"row_heading level0 row3\" >3</th>\n",
       "      <td id=\"T_aeea7_row3_col0\" class=\"data row3 col0\" >Did you see the baseball game yesterday?</td>\n",
       "      <td id=\"T_aeea7_row3_col1\" class=\"data row3 col1\" >-0.400000</td>\n",
       "      <td id=\"T_aeea7_row3_col2\" class=\"data row3 col2\" >0.613050</td>\n",
       "      <td id=\"T_aeea7_row3_col3\" class=\"data row3 col3\" >0.000000</td>\n",
       "    </tr>\n",
       "    <tr>\n",
       "      <th id=\"T_aeea7_level0_row4\" class=\"row_heading level0 row4\" >4</th>\n",
       "      <td id=\"T_aeea7_row4_col0\" class=\"data row4 col0\" >The package was delivered late and the contents were broken</td>\n",
       "      <td id=\"T_aeea7_row4_col1\" class=\"data row4 col1\" >-0.350000</td>\n",
       "      <td id=\"T_aeea7_row4_col2\" class=\"data row4 col2\" >-0.574270</td>\n",
       "      <td id=\"T_aeea7_row4_col3\" class=\"data row4 col3\" >-0.476700</td>\n",
       "    </tr>\n",
       "    <tr>\n",
       "      <th id=\"T_aeea7_level0_row5\" class=\"row_heading level0 row5\" >5</th>\n",
       "      <td id=\"T_aeea7_row5_col0\" class=\"data row5 col0\" >Trashy television shows are some of my favorites</td>\n",
       "      <td id=\"T_aeea7_row5_col1\" class=\"data row5 col1\" >0.000000</td>\n",
       "      <td id=\"T_aeea7_row5_col2\" class=\"data row5 col2\" >0.040076</td>\n",
       "      <td id=\"T_aeea7_row5_col3\" class=\"data row5 col3\" >0.421500</td>\n",
       "    </tr>\n",
       "    <tr>\n",
       "      <th id=\"T_aeea7_level0_row6\" class=\"row_heading level0 row6\" >6</th>\n",
       "      <td id=\"T_aeea7_row6_col0\" class=\"data row6 col0\" >I'm seeing a Kubrick film tomorrow, I hear not so great things about it.</td>\n",
       "      <td id=\"T_aeea7_row6_col1\" class=\"data row6 col1\" >0.800000</td>\n",
       "      <td id=\"T_aeea7_row6_col2\" class=\"data row6 col2\" >0.717875</td>\n",
       "      <td id=\"T_aeea7_row6_col3\" class=\"data row6 col3\" >-0.629600</td>\n",
       "    </tr>\n",
       "    <tr>\n",
       "      <th id=\"T_aeea7_level0_row7\" class=\"row_heading level0 row7\" >7</th>\n",
       "      <td id=\"T_aeea7_row7_col0\" class=\"data row7 col0\" >I find chirping birds irritating, but I know I'm not the only one</td>\n",
       "      <td id=\"T_aeea7_row7_col1\" class=\"data row7 col1\" >-0.200000</td>\n",
       "      <td id=\"T_aeea7_row7_col2\" class=\"data row7 col2\" >0.257148</td>\n",
       "      <td id=\"T_aeea7_row7_col3\" class=\"data row7 col3\" >-0.250000</td>\n",
       "    </tr>\n",
       "  </tbody>\n",
       "</table>\n"
      ],
      "text/plain": [
       "<pandas.io.formats.style.Styler at 0x24dd26c8410>"
      ]
     },
     "execution_count": 26,
     "metadata": {},
     "output_type": "execute_result"
    }
   ],
   "source": [
    "# Import necessary libraries and modules\n",
    "from textblob import TextBlob  # Assuming 'TextBlob' is imported from the textblob library\n",
    "from textblob.sentiments import NaiveBayesAnalyzer  # Assuming 'NaiveBayesAnalyzer' is imported\n",
    "from nltk.sentiment.vader import SentimentIntensityAnalyzer  # Assuming 'SentimentIntensityAnalyzer' is imported\n",
    "import pandas as pd\n",
    "\n",
    "# Define a function 'get_scores' that calculates sentiment scores for a given 'content'\n",
    "def get_scores(content):\n",
    "    # Create a TextBlob object for sentiment analysis\n",
    "    blob = TextBlob(content)\n",
    "    \n",
    "    # Create a TextBlob object using Naive Bayes sentiment analysis (assuming 'blobber' is defined)\n",
    "    nb_blob = blobber(content)  # You should ensure 'blobber' is properly defined\n",
    "    \n",
    "    # Perform sentiment analysis using NLTK's SentimentIntensityAnalyzer\n",
    "    sia_scores = sia.polarity_scores(content)  # Assuming 'sia' is defined as the SentimentIntensityAnalyzer\n",
    "    \n",
    "    # Return a pandas Series with sentiment scores and the original content\n",
    "    return pd.Series({\n",
    "        'content': content,\n",
    "        'textblob': blob.sentiment.polarity,\n",
    "        'textblob_bayes': nb_blob.sentiment.p_pos - nb_blob.sentiment.p_neg,\n",
    "        'nltk': sia_scores['compound'],\n",
    "    })\n",
    "\n",
    "# Apply the 'get_scores' function to each element in the 'content' column of the dataframe 'df'\n",
    "scores = df.content.apply(get_scores)\n",
    "\n",
    "# Style the dataframe 'scores' by applying a background gradient to visualize sentiment scores\n",
    "scores.style.background_gradient(cmap='RdYlGn', axis=None, low=0.4, high=0.4)"
   ]
  },
  {
   "cell_type": "code",
   "execution_count": null,
   "id": "3195be72",
   "metadata": {},
   "outputs": [],
   "source": []
  },
  {
   "cell_type": "code",
   "execution_count": null,
   "id": "91a72152",
   "metadata": {},
   "outputs": [],
   "source": []
  }
 ],
 "metadata": {
  "kernelspec": {
   "display_name": "Python 3 (ipykernel)",
   "language": "python",
   "name": "python3"
  },
  "language_info": {
   "codemirror_mode": {
    "name": "ipython",
    "version": 3
   },
   "file_extension": ".py",
   "mimetype": "text/x-python",
   "name": "python",
   "nbconvert_exporter": "python",
   "pygments_lexer": "ipython3",
   "version": "3.11.5"
  }
 },
 "nbformat": 4,
 "nbformat_minor": 5
}
